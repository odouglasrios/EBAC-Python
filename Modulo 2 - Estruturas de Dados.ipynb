{
  "nbformat": 4,
  "nbformat_minor": 0,
  "metadata": {
    "colab": {
      "provenance": [],
      "collapsed_sections": [],
      "toc_visible": true
    },
    "kernelspec": {
      "name": "python3",
      "display_name": "Python 3"
    }
  },
  "cells": [
    {
      "cell_type": "markdown",
      "metadata": {
        "id": "KJqp9AANOCtf"
      },
      "source": [
        "<img src=\"https://raw.githubusercontent.com/andre-marcos-perez/ebac-course-utils/main/media/logo/newebac_logo_black_half.png\" alt=\"ebac-logo\">\n",
        "\n",
        "---\n",
        "\n",
        "# **Módulo 02** | Python: Estruturas de Dados\n",
        "Caderno de **Exercícios**<br> \n",
        "Professor [André Perez](https://www.linkedin.com/in/andremarcosperez/)\n",
        "\n",
        "---"
      ]
    },
    {
      "cell_type": "markdown",
      "metadata": {
        "id": "d9jDtUbDOE1-"
      },
      "source": [
        "# **Tópicos**\n",
        "\n",
        "<ol type=\"1\">\n",
        "  <li>Listas;</li>\n",
        "  <li>Conjuntos;</li>\n",
        "  <li>Dicionários.</li>\n",
        "</ol>"
      ]
    },
    {
      "cell_type": "markdown",
      "metadata": {
        "id": "SmoHgt-lwkpD"
      },
      "source": [
        "---"
      ]
    },
    {
      "cell_type": "markdown",
      "metadata": {
        "id": "GABI6OW8OfQ2"
      },
      "source": [
        "# **Exercícios**"
      ]
    },
    {
      "cell_type": "markdown",
      "metadata": {
        "id": "muD1vxozykSC"
      },
      "source": [
        "## 1\\. Listas"
      ]
    },
    {
      "cell_type": "markdown",
      "metadata": {
        "id": "ahrFfCuBxJKs"
      },
      "source": [
        "Criei uma lista chamada `filmes` com o nome dos 10 primeiros filmes mais bem avaliados no site no [IMDB](https://www.imdb.com/chart/top/). Imprima o resultado."
      ]
    },
    {
      "cell_type": "code",
      "metadata": {
        "id": "OgL6Hv3bzOHI",
        "colab": {
          "base_uri": "https://localhost:8080/"
        },
        "outputId": "a1c64ba6-04b6-4af6-b7ac-6c2abb27a7a1"
      },
      "source": [
        "filmes = [\n",
        "    \"Um Sonho de Liberdade\", \n",
        "    \"O Poderoso Chefão\", \n",
        "    \"Batman: O Cavaleiro das Trevas\", \n",
        "    \"O Poderoso Chefão II\",\n",
        "    \"12 Homens e uma Sentença\",\n",
        "    \"A Lista de Schindler\",\n",
        "    \"O Senhor dos Anéis: O Retorno do Rei\",\n",
        "    \"Pulp Fiction: Tempo de Violência\",\n",
        "    \"O Senhor dos Anéis: A Sociedade do Anel\",\n",
        "    \"Três Homens em Conflito\"\n",
        "]\n",
        "\n",
        "print(filmes)"
      ],
      "execution_count": 1,
      "outputs": [
        {
          "output_type": "stream",
          "name": "stdout",
          "text": [
            "['Um Sonho de Liberdade', 'O Poderoso Chefão', 'Batman: O Cavaleiro das Trevas', 'O Poderoso Chefão II', '12 Homens e uma Sentença', 'A Lista de Schindler', 'O Senhor dos Anéis: O Retorno do Rei', 'Pulp Fiction: Tempo de Violência', 'O Senhor dos Anéis: A Sociedade do Anel', 'Três Homens em Conflito']\n"
          ]
        }
      ]
    },
    {
      "cell_type": "markdown",
      "metadata": {
        "id": "KI9zQRT2xa7m"
      },
      "source": [
        "Simule a movimentação do *ranking*. Utilize os métodos `insert` e `pop` para trocar a posição do primeiro e do segundo filme da lista. Imprima o resultado.\n",
        "\n"
      ]
    },
    {
      "cell_type": "code",
      "metadata": {
        "id": "zX3mA3_GzrXH",
        "colab": {
          "base_uri": "https://localhost:8080/"
        },
        "outputId": "35c0fa3a-3dc3-4012-ae10-25c5a7ab6672"
      },
      "source": [
        "filmes.insert(0, filmes[1])\n",
        "print(filmes)\n",
        "filmes_segundo = filmes.pop(2)\n",
        "print(filmes)"
      ],
      "execution_count": 2,
      "outputs": [
        {
          "output_type": "stream",
          "name": "stdout",
          "text": [
            "['O Poderoso Chefão', 'Um Sonho de Liberdade', 'O Poderoso Chefão', 'Batman: O Cavaleiro das Trevas', 'O Poderoso Chefão II', '12 Homens e uma Sentença', 'A Lista de Schindler', 'O Senhor dos Anéis: O Retorno do Rei', 'Pulp Fiction: Tempo de Violência', 'O Senhor dos Anéis: A Sociedade do Anel', 'Três Homens em Conflito']\n",
            "['O Poderoso Chefão', 'Um Sonho de Liberdade', 'Batman: O Cavaleiro das Trevas', 'O Poderoso Chefão II', '12 Homens e uma Sentença', 'A Lista de Schindler', 'O Senhor dos Anéis: O Retorno do Rei', 'Pulp Fiction: Tempo de Violência', 'O Senhor dos Anéis: A Sociedade do Anel', 'Três Homens em Conflito']\n"
          ]
        }
      ]
    },
    {
      "cell_type": "markdown",
      "metadata": {
        "id": "zMN1Q3jdwoJm"
      },
      "source": [
        "---"
      ]
    },
    {
      "cell_type": "markdown",
      "metadata": {
        "id": "lxa5L6uF0ZJE"
      },
      "source": [
        "## 2\\. Conjuntos"
      ]
    },
    {
      "cell_type": "markdown",
      "metadata": {
        "id": "9JahS2Kj0d5u"
      },
      "source": [
        "Aconteceu um erro no seu *ranking*. Simule a duplicação dos três últimos filmes da lista. Imprima o resultado."
      ]
    },
    {
      "cell_type": "code",
      "metadata": {
        "id": "BnjnLBNC6PGe",
        "colab": {
          "base_uri": "https://localhost:8080/"
        },
        "outputId": "e873c7f6-3398-498a-a1dc-b6fc42ce23eb"
      },
      "source": [
        "filmes.insert(len(filmes), filmes[-3])\n",
        "filmes.insert(len(filmes), filmes[-3])\n",
        "filmes.insert(len(filmes), filmes[-3])\n",
        "print(filmes)"
      ],
      "execution_count": 3,
      "outputs": [
        {
          "output_type": "stream",
          "name": "stdout",
          "text": [
            "['O Poderoso Chefão', 'Um Sonho de Liberdade', 'Batman: O Cavaleiro das Trevas', 'O Poderoso Chefão II', '12 Homens e uma Sentença', 'A Lista de Schindler', 'O Senhor dos Anéis: O Retorno do Rei', 'Pulp Fiction: Tempo de Violência', 'O Senhor dos Anéis: A Sociedade do Anel', 'Três Homens em Conflito', 'Pulp Fiction: Tempo de Violência', 'O Senhor dos Anéis: A Sociedade do Anel', 'Três Homens em Conflito']\n"
          ]
        }
      ]
    },
    {
      "cell_type": "markdown",
      "metadata": {
        "id": "suxTfCJB6ZiX"
      },
      "source": [
        "Utiliza a conversão `set` e `list` para remover os valores duplicados. Imprima o resultado. "
      ]
    },
    {
      "cell_type": "code",
      "metadata": {
        "id": "ZvUGN-0n6joM",
        "colab": {
          "base_uri": "https://localhost:8080/"
        },
        "outputId": "e5066a1e-74e0-482b-b050-87adb7107548"
      },
      "source": [
        "print(len(filmes))\n",
        "filmes = list(set(filmes))\n",
        "print(filmes)\n",
        "print(len(filmes))"
      ],
      "execution_count": 4,
      "outputs": [
        {
          "output_type": "stream",
          "name": "stdout",
          "text": [
            "13\n",
            "['O Poderoso Chefão', 'Um Sonho de Liberdade', 'O Senhor dos Anéis: A Sociedade do Anel', 'O Senhor dos Anéis: O Retorno do Rei', 'Batman: O Cavaleiro das Trevas', '12 Homens e uma Sentença', 'O Poderoso Chefão II', 'Pulp Fiction: Tempo de Violência', 'A Lista de Schindler', 'Três Homens em Conflito']\n",
            "10\n"
          ]
        }
      ]
    },
    {
      "cell_type": "markdown",
      "metadata": {
        "id": "ShkK35eQ6pAM"
      },
      "source": [
        "---"
      ]
    },
    {
      "cell_type": "markdown",
      "metadata": {
        "id": "EL_FzmxL6rTv"
      },
      "source": [
        "## 3\\. Dicionários"
      ]
    },
    {
      "cell_type": "markdown",
      "metadata": {
        "id": "i8l0gFqRCpfT"
      },
      "source": [
        "Repita os exercícios da parte 1 (listas). Os elementos da lista `filmes` devem ser dicionários no seguinte formato: `{'nome': <nome-do-filme>, 'ano': <ano do filme>}, 'sinopse': <sinopse do filme>}`. "
      ]
    },
    {
      "cell_type": "code",
      "source": [
        "#Criei uma lista chamada filmes com o nome dos 10 primeiros filmes mais bem avaliados no site no IMDB. Imprima o resultado.\n",
        "\n",
        "filmes = []\n",
        "\n",
        "\n",
        "filme = {'nome': 'Um Sonho de Liberdade', 'ano': 1994, 'sinopse': '<sinopse do filme>'}\n",
        "filmes.append(filme)\n",
        "filme = {'nome': 'O Poderoso Chefão', 'ano': 1972, 'sinopse': '<sinopse do filme>'}\n",
        "filmes.append(filme)\n",
        "filme = {'nome': 'Batman: O Cavaleiro das Trevas', 'ano': 2008, 'sinopse': '<sinopse do filme>'}\n",
        "filmes.append(filme)\n",
        "filme = {'nome': 'O Poderoso Chefão II', 'ano': 1974, 'sinopse': '<sinopse do filme>'}\n",
        "filmes.append(filme)\n",
        "filme = {'nome': '12 Homens e uma Sentença', 'ano': 1957, 'sinopse': '<sinopse do filme>'}\n",
        "filmes.append(filme)\n",
        "filme = {'nome': 'A Lista de Schindler', 'ano': 1993, 'sinopse': '<sinopse do filme>'}\n",
        "filmes.append(filme)\n",
        "filme = {'nome': 'O Senhor dos Anéis: O Retorno do Rei', 'ano': 2003, 'sinopse': '<sinopse do filme>'}\n",
        "filmes.append(filme)\n",
        "filme = {'nome': 'Pulp Fiction: Tempo de Violência', 'ano': 1994, 'sinopse': '<sinopse do filme>'}\n",
        "filmes.append(filme)\n",
        "filme = {'nome': 'O Senhor dos Anéis: A Sociedade do Anel', 'ano': 2001, 'sinopse': '<sinopse do filme>'}\n",
        "filmes.append(filme)\n",
        "filme = {'nome': 'Três Homens em Conflito', 'ano': 1966, 'sinopse': '<sinopse do filme>'}\n",
        "filmes.append(filme)\n",
        "\n",
        "print(filmes)"
      ],
      "metadata": {
        "colab": {
          "base_uri": "https://localhost:8080/"
        },
        "id": "cP2vuEVCpRFj",
        "outputId": "9f0a30a5-c641-49f7-8c76-c65f1c9a7bfc"
      },
      "execution_count": 8,
      "outputs": [
        {
          "output_type": "stream",
          "name": "stdout",
          "text": [
            "[{'nome': 'Um Sonho de Liberdade', 'ano': 1994, 'sinopse': '<sinopse do filme>'}, {'nome': 'O Poderoso Chefão', 'ano': 1972, 'sinopse': '<sinopse do filme>'}, {'nome': 'Batman: O Cavaleiro das Trevas', 'ano': 2008, 'sinopse': '<sinopse do filme>'}, {'nome': 'O Poderoso Chefão II', 'ano': 1974, 'sinopse': '<sinopse do filme>'}, {'nome': '12 Homens e uma Sentença', 'ano': 1957, 'sinopse': '<sinopse do filme>'}, {'nome': 'A Lista de Schindler', 'ano': 1993, 'sinopse': '<sinopse do filme>'}, {'nome': 'O Senhor dos Anéis: O Retorno do Rei', 'ano': 2003, 'sinopse': '<sinopse do filme>'}, {'nome': 'Pulp Fiction: Tempo de Violência', 'ano': 1994, 'sinopse': '<sinopse do filme>'}, {'nome': 'O Senhor dos Anéis: A Sociedade do Anel', 'ano': 2001, 'sinopse': '<sinopse do filme>'}, {'nome': 'Três Homens em Conflito', 'ano': 1966, 'sinopse': '<sinopse do filme>'}]\n"
          ]
        }
      ]
    },
    {
      "cell_type": "code",
      "source": [
        "#Simule a movimentação do ranking. Utilize os métodos insert e pop para trocar a posição do primeiro e do segundo filme da lista. Imprima o resultado.\n",
        "\n",
        "filmes.insert(0, filmes[1])\n",
        "print(filmes)\n",
        "filmes_segundo = filmes.pop(2)\n",
        "print(filmes_segundo)\n",
        "print(filmes)"
      ],
      "metadata": {
        "colab": {
          "base_uri": "https://localhost:8080/"
        },
        "id": "GkTA57vrrHL3",
        "outputId": "ef4e4bf6-bc85-47ac-b47f-29f9b4421e93"
      },
      "execution_count": 9,
      "outputs": [
        {
          "output_type": "stream",
          "name": "stdout",
          "text": [
            "[{'nome': 'O Poderoso Chefão', 'ano': 1972, 'sinopse': '<sinopse do filme>'}, {'nome': 'Um Sonho de Liberdade', 'ano': 1994, 'sinopse': '<sinopse do filme>'}, {'nome': 'O Poderoso Chefão', 'ano': 1972, 'sinopse': '<sinopse do filme>'}, {'nome': 'Batman: O Cavaleiro das Trevas', 'ano': 2008, 'sinopse': '<sinopse do filme>'}, {'nome': 'O Poderoso Chefão II', 'ano': 1974, 'sinopse': '<sinopse do filme>'}, {'nome': '12 Homens e uma Sentença', 'ano': 1957, 'sinopse': '<sinopse do filme>'}, {'nome': 'A Lista de Schindler', 'ano': 1993, 'sinopse': '<sinopse do filme>'}, {'nome': 'O Senhor dos Anéis: O Retorno do Rei', 'ano': 2003, 'sinopse': '<sinopse do filme>'}, {'nome': 'Pulp Fiction: Tempo de Violência', 'ano': 1994, 'sinopse': '<sinopse do filme>'}, {'nome': 'O Senhor dos Anéis: A Sociedade do Anel', 'ano': 2001, 'sinopse': '<sinopse do filme>'}, {'nome': 'Três Homens em Conflito', 'ano': 1966, 'sinopse': '<sinopse do filme>'}]\n",
            "{'nome': 'O Poderoso Chefão', 'ano': 1972, 'sinopse': '<sinopse do filme>'}\n",
            "[{'nome': 'O Poderoso Chefão', 'ano': 1972, 'sinopse': '<sinopse do filme>'}, {'nome': 'Um Sonho de Liberdade', 'ano': 1994, 'sinopse': '<sinopse do filme>'}, {'nome': 'Batman: O Cavaleiro das Trevas', 'ano': 2008, 'sinopse': '<sinopse do filme>'}, {'nome': 'O Poderoso Chefão II', 'ano': 1974, 'sinopse': '<sinopse do filme>'}, {'nome': '12 Homens e uma Sentença', 'ano': 1957, 'sinopse': '<sinopse do filme>'}, {'nome': 'A Lista de Schindler', 'ano': 1993, 'sinopse': '<sinopse do filme>'}, {'nome': 'O Senhor dos Anéis: O Retorno do Rei', 'ano': 2003, 'sinopse': '<sinopse do filme>'}, {'nome': 'Pulp Fiction: Tempo de Violência', 'ano': 1994, 'sinopse': '<sinopse do filme>'}, {'nome': 'O Senhor dos Anéis: A Sociedade do Anel', 'ano': 2001, 'sinopse': '<sinopse do filme>'}, {'nome': 'Três Homens em Conflito', 'ano': 1966, 'sinopse': '<sinopse do filme>'}]\n"
          ]
        }
      ]
    }
  ]
}